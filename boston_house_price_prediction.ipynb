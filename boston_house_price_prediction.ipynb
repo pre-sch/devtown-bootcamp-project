{
  "nbformat": 4,
  "nbformat_minor": 0,
  "metadata": {
    "colab": {
      "provenance": []
    },
    "kernelspec": {
      "name": "python3",
      "display_name": "Python 3"
    },
    "language_info": {
      "name": "python"
    }
  },
  "cells": [
    {
      "cell_type": "code",
      "execution_count": 3,
      "metadata": {
        "colab": {
          "base_uri": "https://localhost:8080/"
        },
        "id": "pgfdNGnKRgjg",
        "outputId": "6b353a0e-5a10-4fcc-b260-90a7bf569c21"
      },
      "outputs": [
        {
          "output_type": "stream",
          "name": "stdout",
          "text": [
            "Test MSE: 24.29\n"
          ]
        }
      ],
      "source": [
        "from sklearn.linear_model import LinearRegression\n",
        "from sklearn.model_selection import train_test_split\n",
        "from sklearn.metrics import mean_squared_error\n",
        "import joblib\n",
        "import pandas as pd\n",
        "\n",
        "# Load and split data\n",
        "df = pd.read_csv(\"BostonHousing.csv\")\n",
        "X = df.drop(\"price\", axis=1)\n",
        "y = df[\"price\"]\n",
        "\n",
        "# Train-test split\n",
        "X_train, X_test, y_train, y_test = train_test_split(X, y, test_size=0.2, random_state=42)\n",
        "\n",
        "# Model\n",
        "model = LinearRegression()\n",
        "model.fit(X_train, y_train)\n",
        "\n",
        "# Save the model\n",
        "joblib.dump(model, \"model.pkl\")\n",
        "\n",
        "# Evaluation\n",
        "mse = mean_squared_error(y_test, model.predict(X_test))\n",
        "print(f\"Test MSE: {mse:.2f}\")\n"
      ]
    },
    {
      "cell_type": "code",
      "source": [],
      "metadata": {
        "id": "OnTkDeBlR_xB"
      },
      "execution_count": null,
      "outputs": []
    }
  ]
}